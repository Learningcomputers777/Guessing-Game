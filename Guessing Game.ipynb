{
 "cells": [
  {
   "cell_type": "code",
   "execution_count": null,
   "id": "f8fb4de4",
   "metadata": {},
   "outputs": [],
   "source": [
    "#Guessing Game\n",
    "import random\n",
    "target = random.randint(1,100)\n",
    "target_list = []\n",
    "target_list.append(target)\n",
    "print(target_list)\n",
    "list = []\n",
    "while True:\n",
    "    player_guess = int(input(\"Enter a number\"))\n",
    "    if player_guess>100:\n",
    "        print(\"OUT of BOUNDS\")\n",
    "    else:\n",
    "        if player_guess<0:\n",
    "            print(\"OUT of BOUNDS\")\n",
    "    \n",
    "    if player_guess == target:\n",
    "        print(\"Congratulations you have guessed it correct\")\n",
    "        \n",
    "            \n",
    "        break\n",
    "    else:\n",
    "        difference = abs(target - player_guess)\n",
    "        if difference <=10:\n",
    "            print(\"You are closer\")\n",
    "        \n",
    "        else:\n",
    "            if player_guess < target:\n",
    "                print(\"Your guess is too low\")\n",
    "            else:\n",
    "                print(\"Your guess is tooo high\")\n",
    "                \n",
    "        list.append(player_guess)\n",
    "        print(list)\n",
    "                \n",
    "            \n",
    "\n",
    "length = len(list)\n",
    "print(\"You have guessed it in {} guesses.\".format(length))"
   ]
  }
 ],
 "metadata": {
  "kernelspec": {
   "display_name": "Python 3 (ipykernel)",
   "language": "python",
   "name": "python3"
  },
  "language_info": {
   "codemirror_mode": {
    "name": "ipython",
    "version": 3
   },
   "file_extension": ".py",
   "mimetype": "text/x-python",
   "name": "python",
   "nbconvert_exporter": "python",
   "pygments_lexer": "ipython3",
   "version": "3.10.9"
  }
 },
 "nbformat": 4,
 "nbformat_minor": 5
}
